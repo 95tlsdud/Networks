{
 "cells": [
  {
   "cell_type": "code",
   "execution_count": 1,
   "id": "32c03f6e",
   "metadata": {},
   "outputs": [],
   "source": [
    "import numpy as np\n",
    "import torch\n",
    "import torchvision\n",
    "import matplotlib.pyplot as plt\n",
    "from time import time\n",
    "from torchvision import datasets, transforms\n",
    "from torch import nn, optim"
   ]
  },
  {
   "cell_type": "code",
   "execution_count": 2,
   "id": "ffba3bb0",
   "metadata": {},
   "outputs": [],
   "source": [
    "transform   = transforms.Compose([transforms.ToTensor(),\n",
    "                              transforms.Normalize((0.5,), (0.5,)),\n",
    "                              ])\n",
    "\n",
    "trainset    = datasets.MNIST('train', download = True, train = True , transform = transform)\n",
    "valset      = datasets.MNIST('val  ', download = True, train = False, transform = transform)\n",
    "\n",
    "trainloader = torch.utils.data.DataLoader(trainset, batch_size = 64, shuffle = True)\n",
    "valloader   = torch.utils.data.DataLoader(valset  , batch_size = 64, shuffle = True)"
   ]
  },
  {
   "cell_type": "code",
   "execution_count": 3,
   "id": "f74f2f93",
   "metadata": {},
   "outputs": [
    {
     "name": "stdout",
     "output_type": "stream",
     "text": [
      "torch.Size([64, 1, 28, 28])\n",
      "torch.Size([64])\n"
     ]
    }
   ],
   "source": [
    "dataiter = iter(trainloader)\n",
    "images, labels = dataiter.next()\n",
    "\n",
    "print(images.shape)\n",
    "# torch.Size([64, 1, 28, 28])\n",
    "# training data : 28 by 28 pixel images\n",
    "print(labels.shape)\n",
    "# torch.Size([64])"
   ]
  },
  {
   "cell_type": "code",
   "execution_count": 4,
   "id": "fc761d11",
   "metadata": {},
   "outputs": [
    {
     "name": "stdout",
     "output_type": "stream",
     "text": [
      "Sequential(\n",
      "  (0): Linear(in_features=784, out_features=128, bias=True)\n",
      "  (1): ReLU()\n",
      "  (2): Linear(in_features=128, out_features=64, bias=True)\n",
      "  (3): ReLU()\n",
      "  (4): Linear(in_features=64, out_features=10, bias=True)\n",
      "  (5): LogSoftmax(dim=1)\n",
      ")\n"
     ]
    }
   ],
   "source": [
    "input_size   = 28*28\n",
    "hidden_sizes = [128, 64]\n",
    "# two layers\n",
    "# the first hidden layer : 128\n",
    "# the second hidden layer : 64\n",
    "\n",
    "output_size  = 10\n",
    "\n",
    "sizes = [input_size] + hidden_sizes\n",
    "\n",
    "layers  = sum([[nn.Linear(start, end), nn.ReLU()] for start, end in zip(sizes, sizes[1:])], [])\n",
    "layers += [nn.Linear(sizes[-1], output_size), nn.LogSoftmax(dim = 1)]\n",
    "\n",
    "model = nn.Sequential(*layers)\n",
    "\n",
    "print(model)"
   ]
  },
  {
   "cell_type": "code",
   "execution_count": 5,
   "id": "0bc91637",
   "metadata": {},
   "outputs": [],
   "source": [
    "criterion      = nn.NLLLoss()\n",
    "images, labels = next(iter(trainloader))\n",
    "images         = images.view(images.shape[0], -1)\n",
    "\n",
    "logps = model(images)            # log probabilities\n",
    "loss  = criterion(logps, labels) # calculate the NLL loss"
   ]
  },
  {
   "cell_type": "code",
   "execution_count": 6,
   "id": "e3c87ccc",
   "metadata": {},
   "outputs": [
    {
     "name": "stdout",
     "output_type": "stream",
     "text": [
      "Epoch   1 - Training loss: 0.3889930016085156\n",
      "Epoch   2 - Training loss: 0.2532378752618583\n",
      "Epoch   3 - Training loss: 0.22523869513305647\n",
      "Epoch   4 - Training loss: 0.21686284710118955\n",
      "Epoch   5 - Training loss: 0.2077731676916006\n",
      "Epoch   6 - Training loss: 0.20428651837663833\n",
      "Epoch   7 - Training loss: 0.20456423198701\n",
      "Epoch   8 - Training loss: 0.19802536479513178\n",
      "Epoch   9 - Training loss: 0.1902443439419717\n",
      "Epoch  10 - Training loss: 0.18696987153942396\n",
      "Epoch  11 - Training loss: 0.17919936519402113\n",
      "Epoch  12 - Training loss: 0.18355557064849462\n",
      "Epoch  13 - Training loss: 0.17716233468160772\n",
      "Epoch  14 - Training loss: 0.17940411035384515\n",
      "Epoch  15 - Training loss: 0.1757362850555487\n",
      "\n",
      "Training Time = 3m 45s\n"
     ]
    }
   ],
   "source": [
    "optimizer = optim.Adam(model.parameters(), lr = 1e-2)\n",
    "# Adam : a method like SDG and DG\n",
    "time0     = time()\n",
    "epochs    = 15\n",
    "\n",
    "for e in range(1, epochs + 1):\n",
    "    running_loss = 0\n",
    "    for images, labels in trainloader:\n",
    "        # Flatten MNIST images into a 784 long vector\n",
    "        images = images.view(images.shape[0], -1)\n",
    "    \n",
    "        # Training pass\n",
    "        optimizer.zero_grad()\n",
    "        \n",
    "        output = model(images)\n",
    "        loss = criterion(output, labels)\n",
    "        \n",
    "        #This is where the model learns by backpropagating\n",
    "        loss.backward()\n",
    "        \n",
    "        #And optimizes its weights here\n",
    "        optimizer.step()\n",
    "        \n",
    "        running_loss += loss.item()\n",
    "\n",
    "    print(f\"Epoch {e:3d} - Training loss: {running_loss / len(trainloader)}\")\n",
    "\n",
    "m, s = map(int, divmod(time() - time0, 60))\n",
    "if s == 60:\n",
    "    m += 1\n",
    "    s  = 0\n",
    "print(f\"\\nTraining Time = {m:d}m {s:d}s\")"
   ]
  },
  {
   "cell_type": "code",
   "execution_count": 7,
   "id": "e9734418",
   "metadata": {},
   "outputs": [],
   "source": [
    "images, labels = next(iter(valloader))\n",
    "\n",
    "img = images.view(-1, 784)\n",
    "with torch.no_grad():\n",
    "    logps = model(img)\n",
    "\n",
    "ps = torch.exp(logps)"
   ]
  },
  {
   "cell_type": "code",
   "execution_count": 8,
   "id": "47a491a8",
   "metadata": {},
   "outputs": [
    {
     "data": {
      "image/png": "[encoded data removed]",
      "text/plain": [
       "<Figure size 1152x1080 with 24 Axes>"
      ]
     },
     "metadata": {
      "needs_background": "light"
     },
     "output_type": "display_data"
    }
   ],
   "source": [
    "fig, ax = plt.subplots(6, 4, figsize = (16, 15))\n",
    "\n",
    "for i in range(6):\n",
    "    ax[i,0].bar(range(10), ps.numpy()[i * 2], ec = 'k', zorder = 3)\n",
    "    ax[i,1].imshow(images.numpy()[i * 2, 0])\n",
    "    ax[i,2].imshow(images.numpy()[i * 2 + 1, 0])\n",
    "    ax[i,3].bar(range(10), ps.numpy()[i * 2 + 1], ec = 'k', zorder = 3)\n",
    "    \n",
    "    for j in [1, 2]:\n",
    "        ax[i,j].set_xticks([])\n",
    "        ax[i,j].set_yticks([])\n",
    "\n",
    "    for j in [0, 3]:\n",
    "        ax[i,j].set_ylim((0, 1.05))\n",
    "        ax[i,j].grid(ls = (0, (5, 5)))"
   ]
  },
  {
   "cell_type": "code",
   "execution_count": 9,
   "id": "cdaf4717",
   "metadata": {},
   "outputs": [
    {
     "data": {
      "text/plain": [
       "0.9534"
      ]
     },
     "execution_count": 9,
     "metadata": {},
     "output_type": "execute_result"
    }
   ],
   "source": [
    "y_hat  = []\n",
    "y_true = []\n",
    "with torch.no_grad():\n",
    "    for images, label in valloader:\n",
    "        images = images.view(-1, 784)\n",
    "        logp   = model(images)\n",
    "        y_hat.append(logp.numpy().argmax(axis = -1))\n",
    "        y_true.append(label.numpy())\n",
    "\n",
    "y_hat  = np.concatenate(y_hat)\n",
    "y_true = np.concatenate(y_true)\n",
    "\n",
    "(y_hat == y_true).mean()"
   ]
  },
  {
   "cell_type": "code",
   "execution_count": 10,
   "id": "d27c768f",
   "metadata": {},
   "outputs": [
    {
     "data": {
      "text/plain": [
       "array([[0.98, 0.  , 0.  , 0.  , 0.  , 0.  , 0.01, 0.  , 0.01, 0.  ],\n",
       "       [0.  , 0.97, 0.  , 0.  , 0.  , 0.  , 0.  , 0.  , 0.02, 0.  ],\n",
       "       [0.  , 0.  , 0.94, 0.03, 0.  , 0.  , 0.  , 0.01, 0.02, 0.  ],\n",
       "       [0.  , 0.  , 0.  , 0.97, 0.  , 0.01, 0.  , 0.  , 0.01, 0.  ],\n",
       "       [0.  , 0.  , 0.  , 0.  , 0.93, 0.  , 0.02, 0.  , 0.01, 0.03],\n",
       "       [0.  , 0.  , 0.  , 0.03, 0.  , 0.91, 0.02, 0.  , 0.03, 0.  ],\n",
       "       [0.01, 0.  , 0.  , 0.  , 0.  , 0.  , 0.97, 0.  , 0.01, 0.  ],\n",
       "       [0.  , 0.  , 0.01, 0.01, 0.  , 0.  , 0.  , 0.95, 0.01, 0.01],\n",
       "       [0.  , 0.  , 0.  , 0.01, 0.  , 0.  , 0.01, 0.  , 0.96, 0.  ],\n",
       "       [0.01, 0.  , 0.  , 0.01, 0.01, 0.  , 0.  , 0.01, 0.03, 0.93]])"
      ]
     },
     "execution_count": 10,
     "metadata": {},
     "output_type": "execute_result"
    }
   ],
   "source": [
    "from sklearn.metrics import confusion_matrix\n",
    "\n",
    "cm = confusion_matrix(y_true, y_hat, normalize = 'true')\n",
    "\n",
    "cm.round(2)"
   ]
  },
  {
   "cell_type": "code",
   "execution_count": 11,
   "id": "77340f38",
   "metadata": {},
   "outputs": [
    {
     "name": "stdout",
     "output_type": "stream",
     "text": [
      "min_value is 0.91 and the corresponding index is 5.\n"
     ]
    }
   ],
   "source": [
    "r = cm.shape[0]\n",
    "min_list = []\n",
    "for i in range(r):\n",
    "    min_list.append(max(cm.round(2)[i]))\n",
    "\n",
    "\n",
    "    \n",
    "min_value = min(min_list)\n",
    "min_index = min_list.index(min_value)\n",
    "\n",
    "print(\"min_value is {} and the corresponding index is {}.\".format(min_value, min_index))"
   ]
  },
  {
   "cell_type": "code",
   "execution_count": null,
   "id": "f01532e7",
   "metadata": {},
   "outputs": [],
   "source": []
  }
 ],
 "metadata": {
  "kernelspec": {
   "display_name": "Python 3",
   "language": "python",
   "name": "python3"
  },
  "language_info": {
   "codemirror_mode": {
    "name": "ipython",
    "version": 3
   },
   "file_extension": ".py",
   "mimetype": "text/x-python",
   "name": "python",
   "nbconvert_exporter": "python",
   "pygments_lexer": "ipython3",
   "version": "3.8.8"
  }
 },
 "nbformat": 4,
 "nbformat_minor": 5
}
