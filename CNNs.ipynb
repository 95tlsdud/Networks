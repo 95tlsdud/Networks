{
 "cells": [
  {
   "cell_type": "code",
   "execution_count": 1,
   "id": "867b550f",
   "metadata": {},
   "outputs": [],
   "source": [
    "import numpy as np\n",
    "import torch\n",
    "import torchvision\n",
    "import matplotlib.pyplot as plt\n",
    "from   time import time\n",
    "from   torchvision import datasets, transforms\n",
    "from   torch import nn, optim"
   ]
  },
  {
   "cell_type": "code",
   "execution_count": 2,
   "id": "4a0bff57",
   "metadata": {},
   "outputs": [],
   "source": [
    "transform   = transforms.Compose([transforms.ToTensor(),\n",
    "                              transforms.Normalize((0.5,), (0.5,)),\n",
    "                              ])\n",
    "\n",
    "trainset    = datasets.MNIST('train', download = True, train = True , transform = transform)\n",
    "valset      = datasets.MNIST('val  ', download = True, train = False, transform = transform)\n",
    "\n",
    "trainloader = torch.utils.data.DataLoader(trainset, batch_size = 64, shuffle = True)\n",
    "valloader   = torch.utils.data.DataLoader(valset  , batch_size = 64, shuffle = True)"
   ]
  },
  {
   "cell_type": "code",
   "execution_count": 3,
   "id": "5b093f8d",
   "metadata": {},
   "outputs": [
    {
     "name": "stdout",
     "output_type": "stream",
     "text": [
      "torch.Size([64, 1, 28, 28])\n",
      "torch.Size([64])\n"
     ]
    }
   ],
   "source": [
    "dataiter = iter(trainloader)\n",
    "images, labels = dataiter.next()\n",
    "\n",
    "print(images.shape)\n",
    "print(labels.shape)"
   ]
  },
  {
   "cell_type": "code",
   "execution_count": 4,
   "id": "c8da222f",
   "metadata": {},
   "outputs": [],
   "source": [
    "class CNN(torch.nn.Module):\n",
    "    def __init__(self):\n",
    "        super(CNN, self).__init__()\n",
    "        self.conv1 = nn.Sequential(         \n",
    "            nn.Conv2d(\n",
    "                in_channels=1,              \n",
    "                out_channels=16,            \n",
    "                kernel_size=5,              \n",
    "                stride=1,                   \n",
    "                padding=2,                  \n",
    "            ),                              \n",
    "            nn.ReLU(),                      \n",
    "            nn.MaxPool2d(kernel_size=2),    \n",
    "        )\n",
    "        self.conv2 = nn.Sequential(         \n",
    "            nn.Conv2d(16, 32, 5, 1, 2),     \n",
    "            nn.ReLU(),                      \n",
    "            nn.MaxPool2d(2),                \n",
    "        )\n",
    "        \n",
    "        # fully connected layer, output 10 classes\n",
    "        self.fc  = nn.Linear(32 * 7 * 7, 10)\n",
    "        self.out = nn.LogSoftmax(dim = 1)\n",
    "        \n",
    "\n",
    "    def forward(self, x):\n",
    "        x = self.conv1(x)\n",
    "        x = self.conv2(x)\n",
    "        # flatten the output of conv2 to (batch_size, 32 * 7 * 7)\n",
    "        x = x.view(x.size(0), -1)\n",
    "        x = self.fc(x)   \n",
    "        output = self.out(x)\n",
    "        return output# , x    # return x for visualization"
   ]
  },
  {
   "cell_type": "code",
   "execution_count": 6,
   "id": "1453931d",
   "metadata": {},
   "outputs": [],
   "source": [
    "model = CNN()\n",
    "\n",
    "criterion      = nn.NLLLoss()\n",
    "images, labels = next(iter(trainloader))\n",
    "images         = images.view(64, 1, 28, 28)"
   ]
  },
  {
   "cell_type": "code",
   "execution_count": 7,
   "id": "37b66bc4",
   "metadata": {},
   "outputs": [
    {
     "name": "stdout",
     "output_type": "stream",
     "text": [
      "Epoch   1 - Training loss: 0.13586660814017298\n",
      "Epoch   2 - Training loss: 0.06940776916777543\n",
      "Epoch   3 - Training loss: 0.06387886052136682\n",
      "Epoch   4 - Training loss: 0.0677218293960695\n",
      "Epoch   5 - Training loss: 0.060501646595962494\n",
      "\n",
      "Training Time = 4m 3s\n"
     ]
    }
   ],
   "source": [
    "optimizer = optim.Adam(model.parameters(), lr = 1e-2)\n",
    "time0     = time()\n",
    "epochs    = 5\n",
    "\n",
    "for e in range(1, epochs + 1):\n",
    "    running_loss = 0\n",
    "    for images, labels in trainloader:\n",
    "        images = images.view(-1, 1, 28, 28)\n",
    "    \n",
    "        # Training pass\n",
    "        optimizer.zero_grad()\n",
    "        \n",
    "        output = model(images)\n",
    "        loss = criterion(output, labels)\n",
    "        \n",
    "        #This is where the model learns by backpropagating\n",
    "        loss.backward()\n",
    "        \n",
    "        #And optimizes its weights here\n",
    "        optimizer.step()\n",
    "        \n",
    "        running_loss += loss.item()\n",
    "\n",
    "    print(f\"Epoch {e:3d} - Training loss: {running_loss / len(trainloader)}\")\n",
    "\n",
    "m, s = map(int, divmod(time() - time0, 60))\n",
    "if s == 60:\n",
    "    m += 1\n",
    "    s  = 0\n",
    "print(f\"\\nTraining Time = {m:d}m {s:d}s\")"
   ]
  },
  {
   "cell_type": "code",
   "execution_count": 10,
   "id": "5c786d97",
   "metadata": {},
   "outputs": [
    {
     "data": {
      "text/plain": [
       "0.9811"
      ]
     },
     "execution_count": 10,
     "metadata": {},
     "output_type": "execute_result"
    }
   ],
   "source": [
    "y_hat  = []\n",
    "y_true = []\n",
    "with torch.no_grad():\n",
    "    for images, label in valloader:\n",
    "        images = images.view(-1, 1, 28, 28)\n",
    "        logp   = model(images)\n",
    "        y_hat.append(logp.numpy().argmax(axis = -1))\n",
    "        y_true.append(label.numpy())\n",
    "\n",
    "y_hat  = np.concatenate(y_hat)\n",
    "y_true = np.concatenate(y_true)\n",
    "\n",
    "(y_hat == y_true).mean()"
   ]
  },
  {
   "cell_type": "code",
   "execution_count": 11,
   "id": "ed6eb2f8",
   "metadata": {},
   "outputs": [
    {
     "data": {
      "text/plain": [
       "array([[0.98, 0.  , 0.  , 0.  , 0.  , 0.  , 0.01, 0.  , 0.  , 0.  ],\n",
       "       [0.  , 0.99, 0.  , 0.  , 0.  , 0.  , 0.  , 0.  , 0.  , 0.  ],\n",
       "       [0.  , 0.  , 0.98, 0.01, 0.  , 0.  , 0.  , 0.01, 0.  , 0.  ],\n",
       "       [0.  , 0.  , 0.  , 0.99, 0.  , 0.  , 0.  , 0.  , 0.  , 0.  ],\n",
       "       [0.  , 0.  , 0.  , 0.  , 0.97, 0.  , 0.  , 0.  , 0.01, 0.01],\n",
       "       [0.  , 0.  , 0.  , 0.01, 0.  , 0.98, 0.  , 0.  , 0.  , 0.  ],\n",
       "       [0.  , 0.01, 0.  , 0.  , 0.  , 0.01, 0.98, 0.  , 0.01, 0.  ],\n",
       "       [0.  , 0.  , 0.01, 0.  , 0.  , 0.  , 0.  , 0.98, 0.  , 0.01],\n",
       "       [0.  , 0.  , 0.  , 0.  , 0.  , 0.  , 0.  , 0.  , 0.98, 0.01],\n",
       "       [0.  , 0.  , 0.  , 0.  , 0.01, 0.01, 0.  , 0.01, 0.  , 0.97]])"
      ]
     },
     "execution_count": 11,
     "metadata": {},
     "output_type": "execute_result"
    }
   ],
   "source": [
    "from sklearn.metrics import confusion_matrix\n",
    "\n",
    "cm = confusion_matrix(y_true, y_hat, normalize = 'true')\n",
    "\n",
    "cm.round(2)"
   ]
  },
  {
   "cell_type": "code",
   "execution_count": 12,
   "id": "d5ff1467",
   "metadata": {},
   "outputs": [
    {
     "name": "stdout",
     "output_type": "stream",
     "text": [
      "min_value is 0.97 and the corresponding index is 4.\n"
     ]
    }
   ],
   "source": [
    "r = cm.shape[0]\n",
    "min_list = []\n",
    "for i in range(r):\n",
    "    min_list.append(max(cm.round(2)[i]))\n",
    "\n",
    "\n",
    "    \n",
    "min_value = min(min_list)\n",
    "min_index = min_list.index(min_value)\n",
    "\n",
    "print(\"min_value is {} and the corresponding index is {}.\".format(min_value, min_index))"
   ]
  },
  {
   "cell_type": "code",
   "execution_count": null,
   "id": "5c229715",
   "metadata": {},
   "outputs": [],
   "source": []
  },
  {
   "cell_type": "code",
   "execution_count": null,
   "id": "5bae3463",
   "metadata": {},
   "outputs": [],
   "source": []
  },
  {
   "cell_type": "markdown",
   "id": "c47fb6f5",
   "metadata": {},
   "source": [
    "### Tutorial"
   ]
  },
  {
   "cell_type": "code",
   "execution_count": 50,
   "id": "033a13ae",
   "metadata": {},
   "outputs": [],
   "source": [
    "from keras.datasets import mnist\n",
    "\n",
    "from keras.models import Sequential\n",
    "from keras.layers import Dense\n",
    "import tensorflow as tf"
   ]
  },
  {
   "cell_type": "code",
   "execution_count": 54,
   "id": "0b50488d",
   "metadata": {},
   "outputs": [],
   "source": [
    "(X_train, y_train), (X_test, y_test) = mnist.load_data()"
   ]
  },
  {
   "cell_type": "code",
   "execution_count": 44,
   "id": "f0dc4159",
   "metadata": {},
   "outputs": [
    {
     "data": {
      "text/plain": [
       "(60000, 28, 28)"
      ]
     },
     "execution_count": 44,
     "metadata": {},
     "output_type": "execute_result"
    }
   ],
   "source": [
    "X_train.shape\n",
    "# 28 by 28 pixel images and having 60000 numbers"
   ]
  },
  {
   "cell_type": "code",
   "execution_count": 45,
   "id": "475c6e38",
   "metadata": {},
   "outputs": [
    {
     "data": {
      "text/plain": [
       "(10000, 28, 28)"
      ]
     },
     "execution_count": 45,
     "metadata": {},
     "output_type": "execute_result"
    }
   ],
   "source": [
    "X_test.shape"
   ]
  },
  {
   "cell_type": "code",
   "execution_count": 56,
   "id": "16fe6b78",
   "metadata": {},
   "outputs": [
    {
     "data": {
      "image/png": "[encoded data removed]",
      "text/plain": [
       "<Figure size 432x288 with 25 Axes>"
      ]
     },
     "metadata": {
      "needs_background": "light"
     },
     "output_type": "display_data"
    }
   ],
   "source": [
    "images_and_labels = list(zip(X_train, y_train))\n",
    "plt.subplots_adjust(bottom=0, left=.01, right=.99, top=1.6, hspace=.35)\n",
    "for i, (image, label) in enumerate(images_and_labels[:25]):\n",
    "    plt.subplot(5, 5, i + 1)\n",
    "    plt.axis('off')\n",
    "    plt.imshow(image, cmap=plt.cm.gray, interpolation='nearest')\n",
    "    plt.title('N°%i Label: %i' % (i, label))\n"
   ]
  },
  {
   "cell_type": "code",
   "execution_count": 57,
   "id": "481e2b26",
   "metadata": {},
   "outputs": [],
   "source": [
    "# flatten\n",
    "X_train = X_train.reshape(X_train.shape[0], 28*28)\n",
    "X_test = X_test.reshape(X_test.shape[0], 28*28)"
   ]
  },
  {
   "cell_type": "code",
   "execution_count": 58,
   "id": "a7e66d76",
   "metadata": {},
   "outputs": [],
   "source": [
    "from keras.utils import np_utils\n",
    "y_train = np_utils.to_categorical(y_train, 10) \n",
    "y_test = np_utils.to_categorical(y_test,10)"
   ]
  },
  {
   "cell_type": "code",
   "execution_count": 59,
   "id": "ad8b2940",
   "metadata": {},
   "outputs": [
    {
     "data": {
      "text/plain": [
       "(60000, 10)"
      ]
     },
     "execution_count": 59,
     "metadata": {},
     "output_type": "execute_result"
    }
   ],
   "source": [
    "y_train.shape"
   ]
  },
  {
   "cell_type": "code",
   "execution_count": 60,
   "id": "b6509c38",
   "metadata": {},
   "outputs": [],
   "source": [
    "model = Sequential()\n",
    "model.add(Dense(256, input_dim=784, activation='relu'))\n",
    "model.add(Dense(10, activation='softmax'))"
   ]
  },
  {
   "cell_type": "code",
   "execution_count": null,
   "id": "990c16a5",
   "metadata": {},
   "outputs": [],
   "source": []
  }
 ],
 "metadata": {
  "kernelspec": {
   "display_name": "Python 3",
   "language": "python",
   "name": "python3"
  },
  "language_info": {
   "codemirror_mode": {
    "name": "ipython",
    "version": 3
   },
   "file_extension": ".py",
   "mimetype": "text/x-python",
   "name": "python",
   "nbconvert_exporter": "python",
   "pygments_lexer": "ipython3",
   "version": "3.8.8"
  }
 },
 "nbformat": 4,
 "nbformat_minor": 5
}
